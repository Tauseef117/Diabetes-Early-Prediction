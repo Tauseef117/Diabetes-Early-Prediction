{
 "cells": [
  {
   "cell_type": "code",
   "execution_count": 1,
   "id": "graduate-quest",
   "metadata": {},
   "outputs": [],
   "source": [
    "import itertools\n",
    "import numpy as np\n",
    "import pandas as pd\n",
    "import missingno as msno \n",
    "import matplotlib.pyplot as plt\n",
    "import seaborn as sns\n",
    "import matplotlib.ticker as ticker\n",
    "from matplotlib.ticker import NullFormatter\n",
    "from sklearn import preprocessing\n",
    "%matplotlib inline"
   ]
  },
  {
   "cell_type": "code",
   "execution_count": 2,
   "id": "informative-cricket",
   "metadata": {},
   "outputs": [
    {
     "data": {
      "text/html": [
       "<div>\n",
       "<style scoped>\n",
       "    .dataframe tbody tr th:only-of-type {\n",
       "        vertical-align: middle;\n",
       "    }\n",
       "\n",
       "    .dataframe tbody tr th {\n",
       "        vertical-align: top;\n",
       "    }\n",
       "\n",
       "    .dataframe thead th {\n",
       "        text-align: right;\n",
       "    }\n",
       "</style>\n",
       "<table border=\"1\" class=\"dataframe\">\n",
       "  <thead>\n",
       "    <tr style=\"text-align: right;\">\n",
       "      <th></th>\n",
       "      <th>Pregnancies</th>\n",
       "      <th>Glucose</th>\n",
       "      <th>BloodPressure</th>\n",
       "      <th>SkinThickness</th>\n",
       "      <th>Insulin</th>\n",
       "      <th>BMI</th>\n",
       "      <th>DiabetesPedigreeFunction</th>\n",
       "      <th>Age</th>\n",
       "      <th>Outcome</th>\n",
       "    </tr>\n",
       "  </thead>\n",
       "  <tbody>\n",
       "    <tr>\n",
       "      <th>0</th>\n",
       "      <td>2</td>\n",
       "      <td>138</td>\n",
       "      <td>62</td>\n",
       "      <td>35</td>\n",
       "      <td>0</td>\n",
       "      <td>33.6</td>\n",
       "      <td>0.127</td>\n",
       "      <td>47</td>\n",
       "      <td>1</td>\n",
       "    </tr>\n",
       "    <tr>\n",
       "      <th>1</th>\n",
       "      <td>0</td>\n",
       "      <td>84</td>\n",
       "      <td>82</td>\n",
       "      <td>31</td>\n",
       "      <td>125</td>\n",
       "      <td>38.2</td>\n",
       "      <td>0.233</td>\n",
       "      <td>23</td>\n",
       "      <td>0</td>\n",
       "    </tr>\n",
       "    <tr>\n",
       "      <th>2</th>\n",
       "      <td>0</td>\n",
       "      <td>145</td>\n",
       "      <td>0</td>\n",
       "      <td>0</td>\n",
       "      <td>0</td>\n",
       "      <td>44.2</td>\n",
       "      <td>0.630</td>\n",
       "      <td>31</td>\n",
       "      <td>1</td>\n",
       "    </tr>\n",
       "    <tr>\n",
       "      <th>3</th>\n",
       "      <td>0</td>\n",
       "      <td>135</td>\n",
       "      <td>68</td>\n",
       "      <td>42</td>\n",
       "      <td>250</td>\n",
       "      <td>42.3</td>\n",
       "      <td>0.365</td>\n",
       "      <td>24</td>\n",
       "      <td>1</td>\n",
       "    </tr>\n",
       "    <tr>\n",
       "      <th>4</th>\n",
       "      <td>1</td>\n",
       "      <td>139</td>\n",
       "      <td>62</td>\n",
       "      <td>41</td>\n",
       "      <td>480</td>\n",
       "      <td>40.7</td>\n",
       "      <td>0.536</td>\n",
       "      <td>21</td>\n",
       "      <td>0</td>\n",
       "    </tr>\n",
       "    <tr>\n",
       "      <th>5</th>\n",
       "      <td>0</td>\n",
       "      <td>173</td>\n",
       "      <td>78</td>\n",
       "      <td>32</td>\n",
       "      <td>265</td>\n",
       "      <td>46.5</td>\n",
       "      <td>1.159</td>\n",
       "      <td>58</td>\n",
       "      <td>0</td>\n",
       "    </tr>\n",
       "    <tr>\n",
       "      <th>6</th>\n",
       "      <td>4</td>\n",
       "      <td>99</td>\n",
       "      <td>72</td>\n",
       "      <td>17</td>\n",
       "      <td>0</td>\n",
       "      <td>25.6</td>\n",
       "      <td>0.294</td>\n",
       "      <td>28</td>\n",
       "      <td>0</td>\n",
       "    </tr>\n",
       "    <tr>\n",
       "      <th>7</th>\n",
       "      <td>8</td>\n",
       "      <td>194</td>\n",
       "      <td>80</td>\n",
       "      <td>0</td>\n",
       "      <td>0</td>\n",
       "      <td>26.1</td>\n",
       "      <td>0.551</td>\n",
       "      <td>67</td>\n",
       "      <td>0</td>\n",
       "    </tr>\n",
       "    <tr>\n",
       "      <th>8</th>\n",
       "      <td>2</td>\n",
       "      <td>83</td>\n",
       "      <td>65</td>\n",
       "      <td>28</td>\n",
       "      <td>66</td>\n",
       "      <td>36.8</td>\n",
       "      <td>0.629</td>\n",
       "      <td>24</td>\n",
       "      <td>0</td>\n",
       "    </tr>\n",
       "    <tr>\n",
       "      <th>9</th>\n",
       "      <td>2</td>\n",
       "      <td>89</td>\n",
       "      <td>90</td>\n",
       "      <td>30</td>\n",
       "      <td>0</td>\n",
       "      <td>33.5</td>\n",
       "      <td>0.292</td>\n",
       "      <td>42</td>\n",
       "      <td>0</td>\n",
       "    </tr>\n",
       "  </tbody>\n",
       "</table>\n",
       "</div>"
      ],
      "text/plain": [
       "   Pregnancies  Glucose  BloodPressure  SkinThickness  Insulin   BMI  \\\n",
       "0            2      138             62             35        0  33.6   \n",
       "1            0       84             82             31      125  38.2   \n",
       "2            0      145              0              0        0  44.2   \n",
       "3            0      135             68             42      250  42.3   \n",
       "4            1      139             62             41      480  40.7   \n",
       "5            0      173             78             32      265  46.5   \n",
       "6            4       99             72             17        0  25.6   \n",
       "7            8      194             80              0        0  26.1   \n",
       "8            2       83             65             28       66  36.8   \n",
       "9            2       89             90             30        0  33.5   \n",
       "\n",
       "   DiabetesPedigreeFunction  Age  Outcome  \n",
       "0                     0.127   47        1  \n",
       "1                     0.233   23        0  \n",
       "2                     0.630   31        1  \n",
       "3                     0.365   24        1  \n",
       "4                     0.536   21        0  \n",
       "5                     1.159   58        0  \n",
       "6                     0.294   28        0  \n",
       "7                     0.551   67        0  \n",
       "8                     0.629   24        0  \n",
       "9                     0.292   42        0  "
      ]
     },
     "execution_count": 2,
     "metadata": {},
     "output_type": "execute_result"
    }
   ],
   "source": [
    "df = pd.read_csv(r\"C:\\Users\\Tauseef Ahmed\\Downloads\\CSV\\data_diabetes.csv\")\n",
    "df.head(10)"
   ]
  },
  {
   "cell_type": "code",
   "execution_count": 3,
   "id": "simplified-bailey",
   "metadata": {},
   "outputs": [
    {
     "data": {
      "text/plain": [
       "(2000, 9)"
      ]
     },
     "execution_count": 3,
     "metadata": {},
     "output_type": "execute_result"
    }
   ],
   "source": [
    "df.shape"
   ]
  },
  {
   "cell_type": "markdown",
   "id": "controlled-score",
   "metadata": {},
   "source": [
    "## DATA PREPROCESSING "
   ]
  },
  {
   "cell_type": "markdown",
   "id": "rocky-homeless",
   "metadata": {},
   "source": [
    "### Checking if dataset contains any NULL value "
   ]
  },
  {
   "cell_type": "code",
   "execution_count": 5,
   "id": "brazilian-pitch",
   "metadata": {},
   "outputs": [
    {
     "data": {
      "text/html": [
       "<div>\n",
       "<style scoped>\n",
       "    .dataframe tbody tr th:only-of-type {\n",
       "        vertical-align: middle;\n",
       "    }\n",
       "\n",
       "    .dataframe tbody tr th {\n",
       "        vertical-align: top;\n",
       "    }\n",
       "\n",
       "    .dataframe thead th {\n",
       "        text-align: right;\n",
       "    }\n",
       "</style>\n",
       "<table border=\"1\" class=\"dataframe\">\n",
       "  <thead>\n",
       "    <tr style=\"text-align: right;\">\n",
       "      <th></th>\n",
       "      <th>Pregnancies</th>\n",
       "      <th>Glucose</th>\n",
       "      <th>BloodPressure</th>\n",
       "      <th>SkinThickness</th>\n",
       "      <th>Insulin</th>\n",
       "      <th>BMI</th>\n",
       "      <th>DiabetesPedigreeFunction</th>\n",
       "      <th>Age</th>\n",
       "      <th>Outcome</th>\n",
       "    </tr>\n",
       "  </thead>\n",
       "  <tbody>\n",
       "    <tr>\n",
       "      <th>0</th>\n",
       "      <td>False</td>\n",
       "      <td>False</td>\n",
       "      <td>False</td>\n",
       "      <td>False</td>\n",
       "      <td>False</td>\n",
       "      <td>False</td>\n",
       "      <td>False</td>\n",
       "      <td>False</td>\n",
       "      <td>False</td>\n",
       "    </tr>\n",
       "    <tr>\n",
       "      <th>1</th>\n",
       "      <td>False</td>\n",
       "      <td>False</td>\n",
       "      <td>False</td>\n",
       "      <td>False</td>\n",
       "      <td>False</td>\n",
       "      <td>False</td>\n",
       "      <td>False</td>\n",
       "      <td>False</td>\n",
       "      <td>False</td>\n",
       "    </tr>\n",
       "    <tr>\n",
       "      <th>2</th>\n",
       "      <td>False</td>\n",
       "      <td>False</td>\n",
       "      <td>False</td>\n",
       "      <td>False</td>\n",
       "      <td>False</td>\n",
       "      <td>False</td>\n",
       "      <td>False</td>\n",
       "      <td>False</td>\n",
       "      <td>False</td>\n",
       "    </tr>\n",
       "    <tr>\n",
       "      <th>3</th>\n",
       "      <td>False</td>\n",
       "      <td>False</td>\n",
       "      <td>False</td>\n",
       "      <td>False</td>\n",
       "      <td>False</td>\n",
       "      <td>False</td>\n",
       "      <td>False</td>\n",
       "      <td>False</td>\n",
       "      <td>False</td>\n",
       "    </tr>\n",
       "    <tr>\n",
       "      <th>4</th>\n",
       "      <td>False</td>\n",
       "      <td>False</td>\n",
       "      <td>False</td>\n",
       "      <td>False</td>\n",
       "      <td>False</td>\n",
       "      <td>False</td>\n",
       "      <td>False</td>\n",
       "      <td>False</td>\n",
       "      <td>False</td>\n",
       "    </tr>\n",
       "    <tr>\n",
       "      <th>5</th>\n",
       "      <td>False</td>\n",
       "      <td>False</td>\n",
       "      <td>False</td>\n",
       "      <td>False</td>\n",
       "      <td>False</td>\n",
       "      <td>False</td>\n",
       "      <td>False</td>\n",
       "      <td>False</td>\n",
       "      <td>False</td>\n",
       "    </tr>\n",
       "    <tr>\n",
       "      <th>6</th>\n",
       "      <td>False</td>\n",
       "      <td>False</td>\n",
       "      <td>False</td>\n",
       "      <td>False</td>\n",
       "      <td>False</td>\n",
       "      <td>False</td>\n",
       "      <td>False</td>\n",
       "      <td>False</td>\n",
       "      <td>False</td>\n",
       "    </tr>\n",
       "    <tr>\n",
       "      <th>7</th>\n",
       "      <td>False</td>\n",
       "      <td>False</td>\n",
       "      <td>False</td>\n",
       "      <td>False</td>\n",
       "      <td>False</td>\n",
       "      <td>False</td>\n",
       "      <td>False</td>\n",
       "      <td>False</td>\n",
       "      <td>False</td>\n",
       "    </tr>\n",
       "    <tr>\n",
       "      <th>8</th>\n",
       "      <td>False</td>\n",
       "      <td>False</td>\n",
       "      <td>False</td>\n",
       "      <td>False</td>\n",
       "      <td>False</td>\n",
       "      <td>False</td>\n",
       "      <td>False</td>\n",
       "      <td>False</td>\n",
       "      <td>False</td>\n",
       "    </tr>\n",
       "    <tr>\n",
       "      <th>9</th>\n",
       "      <td>False</td>\n",
       "      <td>False</td>\n",
       "      <td>False</td>\n",
       "      <td>False</td>\n",
       "      <td>False</td>\n",
       "      <td>False</td>\n",
       "      <td>False</td>\n",
       "      <td>False</td>\n",
       "      <td>False</td>\n",
       "    </tr>\n",
       "  </tbody>\n",
       "</table>\n",
       "</div>"
      ],
      "text/plain": [
       "   Pregnancies  Glucose  BloodPressure  SkinThickness  Insulin    BMI  \\\n",
       "0        False    False          False          False    False  False   \n",
       "1        False    False          False          False    False  False   \n",
       "2        False    False          False          False    False  False   \n",
       "3        False    False          False          False    False  False   \n",
       "4        False    False          False          False    False  False   \n",
       "5        False    False          False          False    False  False   \n",
       "6        False    False          False          False    False  False   \n",
       "7        False    False          False          False    False  False   \n",
       "8        False    False          False          False    False  False   \n",
       "9        False    False          False          False    False  False   \n",
       "\n",
       "   DiabetesPedigreeFunction    Age  Outcome  \n",
       "0                     False  False    False  \n",
       "1                     False  False    False  \n",
       "2                     False  False    False  \n",
       "3                     False  False    False  \n",
       "4                     False  False    False  \n",
       "5                     False  False    False  \n",
       "6                     False  False    False  \n",
       "7                     False  False    False  \n",
       "8                     False  False    False  \n",
       "9                     False  False    False  "
      ]
     },
     "execution_count": 5,
     "metadata": {},
     "output_type": "execute_result"
    }
   ],
   "source": [
    "missing_data = df.isnull()\n",
    "missing_data.head(10)"
   ]
  },
  {
   "cell_type": "code",
   "execution_count": 6,
   "id": "respiratory-maria",
   "metadata": {},
   "outputs": [
    {
     "name": "stdout",
     "output_type": "stream",
     "text": [
      "Pregnancies\n",
      "False    2000\n",
      "Name: Pregnancies, dtype: int64\n",
      "\n",
      "Glucose\n",
      "False    2000\n",
      "Name: Glucose, dtype: int64\n",
      "\n",
      "BloodPressure\n",
      "False    2000\n",
      "Name: BloodPressure, dtype: int64\n",
      "\n",
      "SkinThickness\n",
      "False    2000\n",
      "Name: SkinThickness, dtype: int64\n",
      "\n",
      "Insulin\n",
      "False    2000\n",
      "Name: Insulin, dtype: int64\n",
      "\n",
      "BMI\n",
      "False    2000\n",
      "Name: BMI, dtype: int64\n",
      "\n",
      "DiabetesPedigreeFunction\n",
      "False    2000\n",
      "Name: DiabetesPedigreeFunction, dtype: int64\n",
      "\n",
      "Age\n",
      "False    2000\n",
      "Name: Age, dtype: int64\n",
      "\n",
      "Outcome\n",
      "False    2000\n",
      "Name: Outcome, dtype: int64\n",
      "\n"
     ]
    }
   ],
   "source": [
    "for column in missing_data.columns.values.tolist():\n",
    "    print(column)\n",
    "    print (missing_data[column].value_counts())\n",
    "    print(\"\") "
   ]
  },
  {
   "cell_type": "code",
   "execution_count": 9,
   "id": "pleased-reception",
   "metadata": {},
   "outputs": [
    {
     "data": {
      "text/plain": [
       "<AxesSubplot:>"
      ]
     },
     "execution_count": 9,
     "metadata": {},
     "output_type": "execute_result"
    },
    {
     "data": {
      "image/png": "[encoded data removed]",
      "text/plain": [
       "<Figure size 1800x720 with 2 Axes>"
      ]
     },
     "metadata": {
      "needs_background": "light"
     },
     "output_type": "display_data"
    }
   ],
   "source": [
    "msno.matrix(df)"
   ]
  },
  {
   "cell_type": "markdown",
   "id": "committed-pressure",
   "metadata": {},
   "source": [
    "## Understanding data present  "
   ]
  },
  {
   "cell_type": "code",
   "execution_count": 10,
   "id": "steady-rings",
   "metadata": {},
   "outputs": [
    {
     "data": {
      "text/plain": [
       "Pregnancies                   int64\n",
       "Glucose                       int64\n",
       "BloodPressure                 int64\n",
       "SkinThickness                 int64\n",
       "Insulin                       int64\n",
       "BMI                         float64\n",
       "DiabetesPedigreeFunction    float64\n",
       "Age                           int64\n",
       "Outcome                       int64\n",
       "dtype: object"
      ]
     },
     "execution_count": 10,
     "metadata": {},
     "output_type": "execute_result"
    }
   ],
   "source": [
    "df.dtypes"
   ]
  },
  {
   "cell_type": "code",
   "execution_count": 11,
   "id": "tight-thing",
   "metadata": {},
   "outputs": [
    {
     "data": {
      "text/html": [
       "<div>\n",
       "<style scoped>\n",
       "    .dataframe tbody tr th:only-of-type {\n",
       "        vertical-align: middle;\n",
       "    }\n",
       "\n",
       "    .dataframe tbody tr th {\n",
       "        vertical-align: top;\n",
       "    }\n",
       "\n",
       "    .dataframe thead th {\n",
       "        text-align: right;\n",
       "    }\n",
       "</style>\n",
       "<table border=\"1\" class=\"dataframe\">\n",
       "  <thead>\n",
       "    <tr style=\"text-align: right;\">\n",
       "      <th></th>\n",
       "      <th>Pregnancies</th>\n",
       "      <th>Glucose</th>\n",
       "      <th>BloodPressure</th>\n",
       "      <th>SkinThickness</th>\n",
       "      <th>Insulin</th>\n",
       "      <th>BMI</th>\n",
       "      <th>DiabetesPedigreeFunction</th>\n",
       "      <th>Age</th>\n",
       "      <th>Outcome</th>\n",
       "    </tr>\n",
       "  </thead>\n",
       "  <tbody>\n",
       "    <tr>\n",
       "      <th>count</th>\n",
       "      <td>2000.000000</td>\n",
       "      <td>2000.000000</td>\n",
       "      <td>2000.000000</td>\n",
       "      <td>2000.000000</td>\n",
       "      <td>2000.000000</td>\n",
       "      <td>2000.000000</td>\n",
       "      <td>2000.000000</td>\n",
       "      <td>2000.000000</td>\n",
       "      <td>2000.000000</td>\n",
       "    </tr>\n",
       "    <tr>\n",
       "      <th>mean</th>\n",
       "      <td>3.703500</td>\n",
       "      <td>121.182500</td>\n",
       "      <td>69.145500</td>\n",
       "      <td>20.935000</td>\n",
       "      <td>80.254000</td>\n",
       "      <td>32.193000</td>\n",
       "      <td>0.470930</td>\n",
       "      <td>33.090500</td>\n",
       "      <td>0.342000</td>\n",
       "    </tr>\n",
       "    <tr>\n",
       "      <th>std</th>\n",
       "      <td>3.306063</td>\n",
       "      <td>32.068636</td>\n",
       "      <td>19.188315</td>\n",
       "      <td>16.103243</td>\n",
       "      <td>111.180534</td>\n",
       "      <td>8.149901</td>\n",
       "      <td>0.323553</td>\n",
       "      <td>11.786423</td>\n",
       "      <td>0.474498</td>\n",
       "    </tr>\n",
       "    <tr>\n",
       "      <th>min</th>\n",
       "      <td>0.000000</td>\n",
       "      <td>0.000000</td>\n",
       "      <td>0.000000</td>\n",
       "      <td>0.000000</td>\n",
       "      <td>0.000000</td>\n",
       "      <td>0.000000</td>\n",
       "      <td>0.078000</td>\n",
       "      <td>21.000000</td>\n",
       "      <td>0.000000</td>\n",
       "    </tr>\n",
       "    <tr>\n",
       "      <th>25%</th>\n",
       "      <td>1.000000</td>\n",
       "      <td>99.000000</td>\n",
       "      <td>63.500000</td>\n",
       "      <td>0.000000</td>\n",
       "      <td>0.000000</td>\n",
       "      <td>27.375000</td>\n",
       "      <td>0.244000</td>\n",
       "      <td>24.000000</td>\n",
       "      <td>0.000000</td>\n",
       "    </tr>\n",
       "    <tr>\n",
       "      <th>50%</th>\n",
       "      <td>3.000000</td>\n",
       "      <td>117.000000</td>\n",
       "      <td>72.000000</td>\n",
       "      <td>23.000000</td>\n",
       "      <td>40.000000</td>\n",
       "      <td>32.300000</td>\n",
       "      <td>0.376000</td>\n",
       "      <td>29.000000</td>\n",
       "      <td>0.000000</td>\n",
       "    </tr>\n",
       "    <tr>\n",
       "      <th>75%</th>\n",
       "      <td>6.000000</td>\n",
       "      <td>141.000000</td>\n",
       "      <td>80.000000</td>\n",
       "      <td>32.000000</td>\n",
       "      <td>130.000000</td>\n",
       "      <td>36.800000</td>\n",
       "      <td>0.624000</td>\n",
       "      <td>40.000000</td>\n",
       "      <td>1.000000</td>\n",
       "    </tr>\n",
       "    <tr>\n",
       "      <th>max</th>\n",
       "      <td>17.000000</td>\n",
       "      <td>199.000000</td>\n",
       "      <td>122.000000</td>\n",
       "      <td>110.000000</td>\n",
       "      <td>744.000000</td>\n",
       "      <td>80.600000</td>\n",
       "      <td>2.420000</td>\n",
       "      <td>81.000000</td>\n",
       "      <td>1.000000</td>\n",
       "    </tr>\n",
       "  </tbody>\n",
       "</table>\n",
       "</div>"
      ],
      "text/plain": [
       "       Pregnancies      Glucose  BloodPressure  SkinThickness      Insulin  \\\n",
       "count  2000.000000  2000.000000    2000.000000    2000.000000  2000.000000   \n",
       "mean      3.703500   121.182500      69.145500      20.935000    80.254000   \n",
       "std       3.306063    32.068636      19.188315      16.103243   111.180534   \n",
       "min       0.000000     0.000000       0.000000       0.000000     0.000000   \n",
       "25%       1.000000    99.000000      63.500000       0.000000     0.000000   \n",
       "50%       3.000000   117.000000      72.000000      23.000000    40.000000   \n",
       "75%       6.000000   141.000000      80.000000      32.000000   130.000000   \n",
       "max      17.000000   199.000000     122.000000     110.000000   744.000000   \n",
       "\n",
       "               BMI  DiabetesPedigreeFunction          Age      Outcome  \n",
       "count  2000.000000               2000.000000  2000.000000  2000.000000  \n",
       "mean     32.193000                  0.470930    33.090500     0.342000  \n",
       "std       8.149901                  0.323553    11.786423     0.474498  \n",
       "min       0.000000                  0.078000    21.000000     0.000000  \n",
       "25%      27.375000                  0.244000    24.000000     0.000000  \n",
       "50%      32.300000                  0.376000    29.000000     0.000000  \n",
       "75%      36.800000                  0.624000    40.000000     1.000000  \n",
       "max      80.600000                  2.420000    81.000000     1.000000  "
      ]
     },
     "execution_count": 11,
     "metadata": {},
     "output_type": "execute_result"
    }
   ],
   "source": [
    "df.describe()"
   ]
  },
  {
   "cell_type": "markdown",
   "id": "opponent-strike",
   "metadata": {},
   "source": [
    "## Understanding Target Value"
   ]
  },
  {
   "cell_type": "code",
   "execution_count": 12,
   "id": "floral-facing",
   "metadata": {},
   "outputs": [
    {
     "data": {
      "text/plain": [
       "0    1316\n",
       "1     684\n",
       "Name: Outcome, dtype: int64"
      ]
     },
     "execution_count": 12,
     "metadata": {},
     "output_type": "execute_result"
    }
   ],
   "source": [
    "df['Outcome'].value_counts() "
   ]
  },
  {
   "cell_type": "code",
   "execution_count": 19,
   "id": "occupied-brain",
   "metadata": {},
   "outputs": [
    {
     "data": {
      "text/plain": [
       "<AxesSubplot:xlabel='Outcome', ylabel='count'>"
      ]
     },
     "execution_count": 19,
     "metadata": {},
     "output_type": "execute_result"
    },
    {
     "data": {
      "image/png": "[encoded data removed]",
      "text/plain": [
       "<Figure size 432x288 with 1 Axes>"
      ]
     },
     "metadata": {
      "needs_background": "light"
     },
     "output_type": "display_data"
    }
   ],
   "source": [
    "sns.countplot(x='Outcome',data=df)"
   ]
  },
  {
   "cell_type": "markdown",
   "id": "centered-street",
   "metadata": {},
   "source": [
    "## Attributes' value distribution"
   ]
  },
  {
   "cell_type": "code",
   "execution_count": 20,
   "id": "variable-surveillance",
   "metadata": {},
   "outputs": [
    {
     "data": {
      "image/png": "[encoded data removed]",
      "text/plain": [
       "<Figure size 720x720 with 9 Axes>"
      ]
     },
     "metadata": {
      "needs_background": "light"
     },
     "output_type": "display_data"
    }
   ],
   "source": [
    "df.hist(bins=10,figsize=(10,10))\n",
    "plt.show()"
   ]
  },
  {
   "cell_type": "markdown",
   "id": "violent-audio",
   "metadata": {},
   "source": [
    "## Correlation between attributes"
   ]
  },
  {
   "cell_type": "code",
   "execution_count": 21,
   "id": "dramatic-governor",
   "metadata": {},
   "outputs": [
    {
     "data": {
      "text/html": [
       "<style  type=\"text/css\" >\n",
       "#T_3f497266_a1e1_11eb_a9bb_b4b686e58d3frow0_col0,#T_3f497266_a1e1_11eb_a9bb_b4b686e58d3frow1_col1,#T_3f497266_a1e1_11eb_a9bb_b4b686e58d3frow2_col2,#T_3f497266_a1e1_11eb_a9bb_b4b686e58d3frow3_col3,#T_3f497266_a1e1_11eb_a9bb_b4b686e58d3frow4_col4,#T_3f497266_a1e1_11eb_a9bb_b4b686e58d3frow5_col5,#T_3f497266_a1e1_11eb_a9bb_b4b686e58d3frow6_col6,#T_3f497266_a1e1_11eb_a9bb_b4b686e58d3frow7_col7,#T_3f497266_a1e1_11eb_a9bb_b4b686e58d3frow8_col8{\n",
       "            background-color:  #023858;\n",
       "            color:  #f1f1f1;\n",
       "        }#T_3f497266_a1e1_11eb_a9bb_b4b686e58d3frow0_col1{\n",
       "            background-color:  #f6eff7;\n",
       "            color:  #000000;\n",
       "        }#T_3f497266_a1e1_11eb_a9bb_b4b686e58d3frow0_col2{\n",
       "            background-color:  #f0eaf4;\n",
       "            color:  #000000;\n",
       "        }#T_3f497266_a1e1_11eb_a9bb_b4b686e58d3frow0_col3{\n",
       "            background-color:  #f9f2f8;\n",
       "            color:  #000000;\n",
       "        }#T_3f497266_a1e1_11eb_a9bb_b4b686e58d3frow0_col4{\n",
       "            background-color:  #fef6fa;\n",
       "            color:  #000000;\n",
       "        }#T_3f497266_a1e1_11eb_a9bb_b4b686e58d3frow0_col5,#T_3f497266_a1e1_11eb_a9bb_b4b686e58d3frow0_col6,#T_3f497266_a1e1_11eb_a9bb_b4b686e58d3frow2_col8,#T_3f497266_a1e1_11eb_a9bb_b4b686e58d3frow3_col1,#T_3f497266_a1e1_11eb_a9bb_b4b686e58d3frow3_col7,#T_3f497266_a1e1_11eb_a9bb_b4b686e58d3frow3_col8,#T_3f497266_a1e1_11eb_a9bb_b4b686e58d3frow4_col0,#T_3f497266_a1e1_11eb_a9bb_b4b686e58d3frow6_col2,#T_3f497266_a1e1_11eb_a9bb_b4b686e58d3frow7_col3,#T_3f497266_a1e1_11eb_a9bb_b4b686e58d3frow7_col4{\n",
       "            background-color:  #fff7fb;\n",
       "            color:  #000000;\n",
       "        }#T_3f497266_a1e1_11eb_a9bb_b4b686e58d3frow0_col7{\n",
       "            background-color:  #4a98c5;\n",
       "            color:  #000000;\n",
       "        }#T_3f497266_a1e1_11eb_a9bb_b4b686e58d3frow0_col8{\n",
       "            background-color:  #e4e1ef;\n",
       "            color:  #000000;\n",
       "        }#T_3f497266_a1e1_11eb_a9bb_b4b686e58d3frow1_col0{\n",
       "            background-color:  #e0dded;\n",
       "            color:  #000000;\n",
       "        }#T_3f497266_a1e1_11eb_a9bb_b4b686e58d3frow1_col2{\n",
       "            background-color:  #f1ebf5;\n",
       "            color:  #000000;\n",
       "        }#T_3f497266_a1e1_11eb_a9bb_b4b686e58d3frow1_col3,#T_3f497266_a1e1_11eb_a9bb_b4b686e58d3frow3_col2{\n",
       "            background-color:  #e6e2ef;\n",
       "            color:  #000000;\n",
       "        }#T_3f497266_a1e1_11eb_a9bb_b4b686e58d3frow1_col4{\n",
       "            background-color:  #a7bddb;\n",
       "            color:  #000000;\n",
       "        }#T_3f497266_a1e1_11eb_a9bb_b4b686e58d3frow1_col5,#T_3f497266_a1e1_11eb_a9bb_b4b686e58d3frow2_col0,#T_3f497266_a1e1_11eb_a9bb_b4b686e58d3frow4_col5,#T_3f497266_a1e1_11eb_a9bb_b4b686e58d3frow4_col6{\n",
       "            background-color:  #d9d8ea;\n",
       "            color:  #000000;\n",
       "        }#T_3f497266_a1e1_11eb_a9bb_b4b686e58d3frow1_col6,#T_3f497266_a1e1_11eb_a9bb_b4b686e58d3frow5_col6{\n",
       "            background-color:  #e7e3f0;\n",
       "            color:  #000000;\n",
       "        }#T_3f497266_a1e1_11eb_a9bb_b4b686e58d3frow1_col7{\n",
       "            background-color:  #b5c4df;\n",
       "            color:  #000000;\n",
       "        }#T_3f497266_a1e1_11eb_a9bb_b4b686e58d3frow1_col8{\n",
       "            background-color:  #97b7d7;\n",
       "            color:  #000000;\n",
       "        }#T_3f497266_a1e1_11eb_a9bb_b4b686e58d3frow2_col1{\n",
       "            background-color:  #f3edf5;\n",
       "            color:  #000000;\n",
       "        }#T_3f497266_a1e1_11eb_a9bb_b4b686e58d3frow2_col3,#T_3f497266_a1e1_11eb_a9bb_b4b686e58d3frow8_col0{\n",
       "            background-color:  #c6cce3;\n",
       "            color:  #000000;\n",
       "        }#T_3f497266_a1e1_11eb_a9bb_b4b686e58d3frow2_col4{\n",
       "            background-color:  #e5e1ef;\n",
       "            color:  #000000;\n",
       "        }#T_3f497266_a1e1_11eb_a9bb_b4b686e58d3frow2_col5{\n",
       "            background-color:  #cacee5;\n",
       "            color:  #000000;\n",
       "        }#T_3f497266_a1e1_11eb_a9bb_b4b686e58d3frow2_col6{\n",
       "            background-color:  #f4edf6;\n",
       "            color:  #000000;\n",
       "        }#T_3f497266_a1e1_11eb_a9bb_b4b686e58d3frow2_col7,#T_3f497266_a1e1_11eb_a9bb_b4b686e58d3frow8_col7{\n",
       "            background-color:  #bbc7e0;\n",
       "            color:  #000000;\n",
       "        }#T_3f497266_a1e1_11eb_a9bb_b4b686e58d3frow3_col0{\n",
       "            background-color:  #fdf5fa;\n",
       "            color:  #000000;\n",
       "        }#T_3f497266_a1e1_11eb_a9bb_b4b686e58d3frow3_col4{\n",
       "            background-color:  #76aad0;\n",
       "            color:  #000000;\n",
       "        }#T_3f497266_a1e1_11eb_a9bb_b4b686e58d3frow3_col5{\n",
       "            background-color:  #a4bcda;\n",
       "            color:  #000000;\n",
       "        }#T_3f497266_a1e1_11eb_a9bb_b4b686e58d3frow3_col6,#T_3f497266_a1e1_11eb_a9bb_b4b686e58d3frow7_col2{\n",
       "            background-color:  #dcdaeb;\n",
       "            color:  #000000;\n",
       "        }#T_3f497266_a1e1_11eb_a9bb_b4b686e58d3frow4_col1{\n",
       "            background-color:  #c8cde4;\n",
       "            color:  #000000;\n",
       "        }#T_3f497266_a1e1_11eb_a9bb_b4b686e58d3frow4_col2{\n",
       "            background-color:  #faf2f8;\n",
       "            color:  #000000;\n",
       "        }#T_3f497266_a1e1_11eb_a9bb_b4b686e58d3frow4_col3{\n",
       "            background-color:  #71a8ce;\n",
       "            color:  #000000;\n",
       "        }#T_3f497266_a1e1_11eb_a9bb_b4b686e58d3frow4_col7,#T_3f497266_a1e1_11eb_a9bb_b4b686e58d3frow7_col5{\n",
       "            background-color:  #fcf4fa;\n",
       "            color:  #000000;\n",
       "        }#T_3f497266_a1e1_11eb_a9bb_b4b686e58d3frow4_col8,#T_3f497266_a1e1_11eb_a9bb_b4b686e58d3frow6_col0,#T_3f497266_a1e1_11eb_a9bb_b4b686e58d3frow7_col6{\n",
       "            background-color:  #f8f1f8;\n",
       "            color:  #000000;\n",
       "        }#T_3f497266_a1e1_11eb_a9bb_b4b686e58d3frow5_col0,#T_3f497266_a1e1_11eb_a9bb_b4b686e58d3frow6_col8{\n",
       "            background-color:  #f2ecf5;\n",
       "            color:  #000000;\n",
       "        }#T_3f497266_a1e1_11eb_a9bb_b4b686e58d3frow5_col1,#T_3f497266_a1e1_11eb_a9bb_b4b686e58d3frow7_col8{\n",
       "            background-color:  #e1dfed;\n",
       "            color:  #000000;\n",
       "        }#T_3f497266_a1e1_11eb_a9bb_b4b686e58d3frow5_col2{\n",
       "            background-color:  #d2d2e7;\n",
       "            color:  #000000;\n",
       "        }#T_3f497266_a1e1_11eb_a9bb_b4b686e58d3frow5_col3{\n",
       "            background-color:  #86b0d3;\n",
       "            color:  #000000;\n",
       "        }#T_3f497266_a1e1_11eb_a9bb_b4b686e58d3frow5_col4{\n",
       "            background-color:  #c5cce3;\n",
       "            color:  #000000;\n",
       "        }#T_3f497266_a1e1_11eb_a9bb_b4b686e58d3frow5_col7{\n",
       "            background-color:  #eae6f1;\n",
       "            color:  #000000;\n",
       "        }#T_3f497266_a1e1_11eb_a9bb_b4b686e58d3frow5_col8{\n",
       "            background-color:  #d8d7e9;\n",
       "            color:  #000000;\n",
       "        }#T_3f497266_a1e1_11eb_a9bb_b4b686e58d3frow6_col1{\n",
       "            background-color:  #f5eff6;\n",
       "            color:  #000000;\n",
       "        }#T_3f497266_a1e1_11eb_a9bb_b4b686e58d3frow6_col3{\n",
       "            background-color:  #cdd0e5;\n",
       "            color:  #000000;\n",
       "        }#T_3f497266_a1e1_11eb_a9bb_b4b686e58d3frow6_col4{\n",
       "            background-color:  #ced0e6;\n",
       "            color:  #000000;\n",
       "        }#T_3f497266_a1e1_11eb_a9bb_b4b686e58d3frow6_col5{\n",
       "            background-color:  #efe9f3;\n",
       "            color:  #000000;\n",
       "        }#T_3f497266_a1e1_11eb_a9bb_b4b686e58d3frow6_col7{\n",
       "            background-color:  #ede7f2;\n",
       "            color:  #000000;\n",
       "        }#T_3f497266_a1e1_11eb_a9bb_b4b686e58d3frow7_col0{\n",
       "            background-color:  #509ac6;\n",
       "            color:  #000000;\n",
       "        }#T_3f497266_a1e1_11eb_a9bb_b4b686e58d3frow7_col1{\n",
       "            background-color:  #dad9ea;\n",
       "            color:  #000000;\n",
       "        }#T_3f497266_a1e1_11eb_a9bb_b4b686e58d3frow8_col1{\n",
       "            background-color:  #93b5d6;\n",
       "            color:  #000000;\n",
       "        }#T_3f497266_a1e1_11eb_a9bb_b4b686e58d3frow8_col2{\n",
       "            background-color:  #fbf4f9;\n",
       "            color:  #000000;\n",
       "        }#T_3f497266_a1e1_11eb_a9bb_b4b686e58d3frow8_col3{\n",
       "            background-color:  #e2dfee;\n",
       "            color:  #000000;\n",
       "        }#T_3f497266_a1e1_11eb_a9bb_b4b686e58d3frow8_col4{\n",
       "            background-color:  #dedcec;\n",
       "            color:  #000000;\n",
       "        }#T_3f497266_a1e1_11eb_a9bb_b4b686e58d3frow8_col5{\n",
       "            background-color:  #cccfe5;\n",
       "            color:  #000000;\n",
       "        }#T_3f497266_a1e1_11eb_a9bb_b4b686e58d3frow8_col6{\n",
       "            background-color:  #e0deed;\n",
       "            color:  #000000;\n",
       "        }</style><table id=\"T_3f497266_a1e1_11eb_a9bb_b4b686e58d3f\" ><thead>    <tr>        <th class=\"blank level0\" ></th>        <th class=\"col_heading level0 col0\" >Pregnancies</th>        <th class=\"col_heading level0 col1\" >Glucose</th>        <th class=\"col_heading level0 col2\" >BloodPressure</th>        <th class=\"col_heading level0 col3\" >SkinThickness</th>        <th class=\"col_heading level0 col4\" >Insulin</th>        <th class=\"col_heading level0 col5\" >BMI</th>        <th class=\"col_heading level0 col6\" >DiabetesPedigreeFunction</th>        <th class=\"col_heading level0 col7\" >Age</th>        <th class=\"col_heading level0 col8\" >Outcome</th>    </tr></thead><tbody>\n",
       "                <tr>\n",
       "                        <th id=\"T_3f497266_a1e1_11eb_a9bb_b4b686e58d3flevel0_row0\" class=\"row_heading level0 row0\" >Pregnancies</th>\n",
       "                        <td id=\"T_3f497266_a1e1_11eb_a9bb_b4b686e58d3frow0_col0\" class=\"data row0 col0\" >1.0</td>\n",
       "                        <td id=\"T_3f497266_a1e1_11eb_a9bb_b4b686e58d3frow0_col1\" class=\"data row0 col1\" >0.1</td>\n",
       "                        <td id=\"T_3f497266_a1e1_11eb_a9bb_b4b686e58d3frow0_col2\" class=\"data row0 col2\" >0.1</td>\n",
       "                        <td id=\"T_3f497266_a1e1_11eb_a9bb_b4b686e58d3frow0_col3\" class=\"data row0 col3\" >-0.1</td>\n",
       "                        <td id=\"T_3f497266_a1e1_11eb_a9bb_b4b686e58d3frow0_col4\" class=\"data row0 col4\" >-0.1</td>\n",
       "                        <td id=\"T_3f497266_a1e1_11eb_a9bb_b4b686e58d3frow0_col5\" class=\"data row0 col5\" >0.0</td>\n",
       "                        <td id=\"T_3f497266_a1e1_11eb_a9bb_b4b686e58d3frow0_col6\" class=\"data row0 col6\" >-0.0</td>\n",
       "                        <td id=\"T_3f497266_a1e1_11eb_a9bb_b4b686e58d3frow0_col7\" class=\"data row0 col7\" >0.5</td>\n",
       "                        <td id=\"T_3f497266_a1e1_11eb_a9bb_b4b686e58d3frow0_col8\" class=\"data row0 col8\" >0.2</td>\n",
       "            </tr>\n",
       "            <tr>\n",
       "                        <th id=\"T_3f497266_a1e1_11eb_a9bb_b4b686e58d3flevel0_row1\" class=\"row_heading level0 row1\" >Glucose</th>\n",
       "                        <td id=\"T_3f497266_a1e1_11eb_a9bb_b4b686e58d3frow1_col0\" class=\"data row1 col0\" >0.1</td>\n",
       "                        <td id=\"T_3f497266_a1e1_11eb_a9bb_b4b686e58d3frow1_col1\" class=\"data row1 col1\" >1.0</td>\n",
       "                        <td id=\"T_3f497266_a1e1_11eb_a9bb_b4b686e58d3frow1_col2\" class=\"data row1 col2\" >0.1</td>\n",
       "                        <td id=\"T_3f497266_a1e1_11eb_a9bb_b4b686e58d3frow1_col3\" class=\"data row1 col3\" >0.1</td>\n",
       "                        <td id=\"T_3f497266_a1e1_11eb_a9bb_b4b686e58d3frow1_col4\" class=\"data row1 col4\" >0.3</td>\n",
       "                        <td id=\"T_3f497266_a1e1_11eb_a9bb_b4b686e58d3frow1_col5\" class=\"data row1 col5\" >0.2</td>\n",
       "                        <td id=\"T_3f497266_a1e1_11eb_a9bb_b4b686e58d3frow1_col6\" class=\"data row1 col6\" >0.1</td>\n",
       "                        <td id=\"T_3f497266_a1e1_11eb_a9bb_b4b686e58d3frow1_col7\" class=\"data row1 col7\" >0.3</td>\n",
       "                        <td id=\"T_3f497266_a1e1_11eb_a9bb_b4b686e58d3frow1_col8\" class=\"data row1 col8\" >0.5</td>\n",
       "            </tr>\n",
       "            <tr>\n",
       "                        <th id=\"T_3f497266_a1e1_11eb_a9bb_b4b686e58d3flevel0_row2\" class=\"row_heading level0 row2\" >BloodPressure</th>\n",
       "                        <td id=\"T_3f497266_a1e1_11eb_a9bb_b4b686e58d3frow2_col0\" class=\"data row2 col0\" >0.1</td>\n",
       "                        <td id=\"T_3f497266_a1e1_11eb_a9bb_b4b686e58d3frow2_col1\" class=\"data row2 col1\" >0.1</td>\n",
       "                        <td id=\"T_3f497266_a1e1_11eb_a9bb_b4b686e58d3frow2_col2\" class=\"data row2 col2\" >1.0</td>\n",
       "                        <td id=\"T_3f497266_a1e1_11eb_a9bb_b4b686e58d3frow2_col3\" class=\"data row2 col3\" >0.2</td>\n",
       "                        <td id=\"T_3f497266_a1e1_11eb_a9bb_b4b686e58d3frow2_col4\" class=\"data row2 col4\" >0.1</td>\n",
       "                        <td id=\"T_3f497266_a1e1_11eb_a9bb_b4b686e58d3frow2_col5\" class=\"data row2 col5\" >0.3</td>\n",
       "                        <td id=\"T_3f497266_a1e1_11eb_a9bb_b4b686e58d3frow2_col6\" class=\"data row2 col6\" >0.1</td>\n",
       "                        <td id=\"T_3f497266_a1e1_11eb_a9bb_b4b686e58d3frow2_col7\" class=\"data row2 col7\" >0.2</td>\n",
       "                        <td id=\"T_3f497266_a1e1_11eb_a9bb_b4b686e58d3frow2_col8\" class=\"data row2 col8\" >0.1</td>\n",
       "            </tr>\n",
       "            <tr>\n",
       "                        <th id=\"T_3f497266_a1e1_11eb_a9bb_b4b686e58d3flevel0_row3\" class=\"row_heading level0 row3\" >SkinThickness</th>\n",
       "                        <td id=\"T_3f497266_a1e1_11eb_a9bb_b4b686e58d3frow3_col0\" class=\"data row3 col0\" >-0.1</td>\n",
       "                        <td id=\"T_3f497266_a1e1_11eb_a9bb_b4b686e58d3frow3_col1\" class=\"data row3 col1\" >0.1</td>\n",
       "                        <td id=\"T_3f497266_a1e1_11eb_a9bb_b4b686e58d3frow3_col2\" class=\"data row3 col2\" >0.2</td>\n",
       "                        <td id=\"T_3f497266_a1e1_11eb_a9bb_b4b686e58d3frow3_col3\" class=\"data row3 col3\" >1.0</td>\n",
       "                        <td id=\"T_3f497266_a1e1_11eb_a9bb_b4b686e58d3frow3_col4\" class=\"data row3 col4\" >0.4</td>\n",
       "                        <td id=\"T_3f497266_a1e1_11eb_a9bb_b4b686e58d3frow3_col5\" class=\"data row3 col5\" >0.4</td>\n",
       "                        <td id=\"T_3f497266_a1e1_11eb_a9bb_b4b686e58d3frow3_col6\" class=\"data row3 col6\" >0.2</td>\n",
       "                        <td id=\"T_3f497266_a1e1_11eb_a9bb_b4b686e58d3frow3_col7\" class=\"data row3 col7\" >-0.1</td>\n",
       "                        <td id=\"T_3f497266_a1e1_11eb_a9bb_b4b686e58d3frow3_col8\" class=\"data row3 col8\" >0.1</td>\n",
       "            </tr>\n",
       "            <tr>\n",
       "                        <th id=\"T_3f497266_a1e1_11eb_a9bb_b4b686e58d3flevel0_row4\" class=\"row_heading level0 row4\" >Insulin</th>\n",
       "                        <td id=\"T_3f497266_a1e1_11eb_a9bb_b4b686e58d3frow4_col0\" class=\"data row4 col0\" >-0.1</td>\n",
       "                        <td id=\"T_3f497266_a1e1_11eb_a9bb_b4b686e58d3frow4_col1\" class=\"data row4 col1\" >0.3</td>\n",
       "                        <td id=\"T_3f497266_a1e1_11eb_a9bb_b4b686e58d3frow4_col2\" class=\"data row4 col2\" >0.1</td>\n",
       "                        <td id=\"T_3f497266_a1e1_11eb_a9bb_b4b686e58d3frow4_col3\" class=\"data row4 col3\" >0.4</td>\n",
       "                        <td id=\"T_3f497266_a1e1_11eb_a9bb_b4b686e58d3frow4_col4\" class=\"data row4 col4\" >1.0</td>\n",
       "                        <td id=\"T_3f497266_a1e1_11eb_a9bb_b4b686e58d3frow4_col5\" class=\"data row4 col5\" >0.2</td>\n",
       "                        <td id=\"T_3f497266_a1e1_11eb_a9bb_b4b686e58d3frow4_col6\" class=\"data row4 col6\" >0.2</td>\n",
       "                        <td id=\"T_3f497266_a1e1_11eb_a9bb_b4b686e58d3frow4_col7\" class=\"data row4 col7\" >-0.1</td>\n",
       "                        <td id=\"T_3f497266_a1e1_11eb_a9bb_b4b686e58d3frow4_col8\" class=\"data row4 col8\" >0.1</td>\n",
       "            </tr>\n",
       "            <tr>\n",
       "                        <th id=\"T_3f497266_a1e1_11eb_a9bb_b4b686e58d3flevel0_row5\" class=\"row_heading level0 row5\" >BMI</th>\n",
       "                        <td id=\"T_3f497266_a1e1_11eb_a9bb_b4b686e58d3frow5_col0\" class=\"data row5 col0\" >0.0</td>\n",
       "                        <td id=\"T_3f497266_a1e1_11eb_a9bb_b4b686e58d3frow5_col1\" class=\"data row5 col1\" >0.2</td>\n",
       "                        <td id=\"T_3f497266_a1e1_11eb_a9bb_b4b686e58d3frow5_col2\" class=\"data row5 col2\" >0.3</td>\n",
       "                        <td id=\"T_3f497266_a1e1_11eb_a9bb_b4b686e58d3frow5_col3\" class=\"data row5 col3\" >0.4</td>\n",
       "                        <td id=\"T_3f497266_a1e1_11eb_a9bb_b4b686e58d3frow5_col4\" class=\"data row5 col4\" >0.2</td>\n",
       "                        <td id=\"T_3f497266_a1e1_11eb_a9bb_b4b686e58d3frow5_col5\" class=\"data row5 col5\" >1.0</td>\n",
       "                        <td id=\"T_3f497266_a1e1_11eb_a9bb_b4b686e58d3frow5_col6\" class=\"data row5 col6\" >0.1</td>\n",
       "                        <td id=\"T_3f497266_a1e1_11eb_a9bb_b4b686e58d3frow5_col7\" class=\"data row5 col7\" >0.0</td>\n",
       "                        <td id=\"T_3f497266_a1e1_11eb_a9bb_b4b686e58d3frow5_col8\" class=\"data row5 col8\" >0.3</td>\n",
       "            </tr>\n",
       "            <tr>\n",
       "                        <th id=\"T_3f497266_a1e1_11eb_a9bb_b4b686e58d3flevel0_row6\" class=\"row_heading level0 row6\" >DiabetesPedigreeFunction</th>\n",
       "                        <td id=\"T_3f497266_a1e1_11eb_a9bb_b4b686e58d3frow6_col0\" class=\"data row6 col0\" >-0.0</td>\n",
       "                        <td id=\"T_3f497266_a1e1_11eb_a9bb_b4b686e58d3frow6_col1\" class=\"data row6 col1\" >0.1</td>\n",
       "                        <td id=\"T_3f497266_a1e1_11eb_a9bb_b4b686e58d3frow6_col2\" class=\"data row6 col2\" >0.1</td>\n",
       "                        <td id=\"T_3f497266_a1e1_11eb_a9bb_b4b686e58d3frow6_col3\" class=\"data row6 col3\" >0.2</td>\n",
       "                        <td id=\"T_3f497266_a1e1_11eb_a9bb_b4b686e58d3frow6_col4\" class=\"data row6 col4\" >0.2</td>\n",
       "                        <td id=\"T_3f497266_a1e1_11eb_a9bb_b4b686e58d3frow6_col5\" class=\"data row6 col5\" >0.1</td>\n",
       "                        <td id=\"T_3f497266_a1e1_11eb_a9bb_b4b686e58d3frow6_col6\" class=\"data row6 col6\" >1.0</td>\n",
       "                        <td id=\"T_3f497266_a1e1_11eb_a9bb_b4b686e58d3frow6_col7\" class=\"data row6 col7\" >0.0</td>\n",
       "                        <td id=\"T_3f497266_a1e1_11eb_a9bb_b4b686e58d3frow6_col8\" class=\"data row6 col8\" >0.2</td>\n",
       "            </tr>\n",
       "            <tr>\n",
       "                        <th id=\"T_3f497266_a1e1_11eb_a9bb_b4b686e58d3flevel0_row7\" class=\"row_heading level0 row7\" >Age</th>\n",
       "                        <td id=\"T_3f497266_a1e1_11eb_a9bb_b4b686e58d3frow7_col0\" class=\"data row7 col0\" >0.5</td>\n",
       "                        <td id=\"T_3f497266_a1e1_11eb_a9bb_b4b686e58d3frow7_col1\" class=\"data row7 col1\" >0.3</td>\n",
       "                        <td id=\"T_3f497266_a1e1_11eb_a9bb_b4b686e58d3frow7_col2\" class=\"data row7 col2\" >0.2</td>\n",
       "                        <td id=\"T_3f497266_a1e1_11eb_a9bb_b4b686e58d3frow7_col3\" class=\"data row7 col3\" >-0.1</td>\n",
       "                        <td id=\"T_3f497266_a1e1_11eb_a9bb_b4b686e58d3frow7_col4\" class=\"data row7 col4\" >-0.1</td>\n",
       "                        <td id=\"T_3f497266_a1e1_11eb_a9bb_b4b686e58d3frow7_col5\" class=\"data row7 col5\" >0.0</td>\n",
       "                        <td id=\"T_3f497266_a1e1_11eb_a9bb_b4b686e58d3frow7_col6\" class=\"data row7 col6\" >0.0</td>\n",
       "                        <td id=\"T_3f497266_a1e1_11eb_a9bb_b4b686e58d3frow7_col7\" class=\"data row7 col7\" >1.0</td>\n",
       "                        <td id=\"T_3f497266_a1e1_11eb_a9bb_b4b686e58d3frow7_col8\" class=\"data row7 col8\" >0.2</td>\n",
       "            </tr>\n",
       "            <tr>\n",
       "                        <th id=\"T_3f497266_a1e1_11eb_a9bb_b4b686e58d3flevel0_row8\" class=\"row_heading level0 row8\" >Outcome</th>\n",
       "                        <td id=\"T_3f497266_a1e1_11eb_a9bb_b4b686e58d3frow8_col0\" class=\"data row8 col0\" >0.2</td>\n",
       "                        <td id=\"T_3f497266_a1e1_11eb_a9bb_b4b686e58d3frow8_col1\" class=\"data row8 col1\" >0.5</td>\n",
       "                        <td id=\"T_3f497266_a1e1_11eb_a9bb_b4b686e58d3frow8_col2\" class=\"data row8 col2\" >0.1</td>\n",
       "                        <td id=\"T_3f497266_a1e1_11eb_a9bb_b4b686e58d3frow8_col3\" class=\"data row8 col3\" >0.1</td>\n",
       "                        <td id=\"T_3f497266_a1e1_11eb_a9bb_b4b686e58d3frow8_col4\" class=\"data row8 col4\" >0.1</td>\n",
       "                        <td id=\"T_3f497266_a1e1_11eb_a9bb_b4b686e58d3frow8_col5\" class=\"data row8 col5\" >0.3</td>\n",
       "                        <td id=\"T_3f497266_a1e1_11eb_a9bb_b4b686e58d3frow8_col6\" class=\"data row8 col6\" >0.2</td>\n",
       "                        <td id=\"T_3f497266_a1e1_11eb_a9bb_b4b686e58d3frow8_col7\" class=\"data row8 col7\" >0.2</td>\n",
       "                        <td id=\"T_3f497266_a1e1_11eb_a9bb_b4b686e58d3frow8_col8\" class=\"data row8 col8\" >1.0</td>\n",
       "            </tr>\n",
       "    </tbody></table>"
      ],
      "text/plain": [
       "<pandas.io.formats.style.Styler at 0x203bf0c4f48>"
      ]
     },
     "execution_count": 21,
     "metadata": {},
     "output_type": "execute_result"
    }
   ],
   "source": [
    "corr = df.corr()\n",
    "corr.style.background_gradient().set_precision(1)"
   ]
  },
  {
   "cell_type": "code",
   "execution_count": 17,
   "id": "deadly-median",
   "metadata": {},
   "outputs": [
    {
     "data": {
      "text/plain": [
       "<AxesSubplot:>"
      ]
     },
     "execution_count": 17,
     "metadata": {},
     "output_type": "execute_result"
    },
    {
     "data": {
      "image/png": "[encoded data removed]",
      "text/plain": [
       "<Figure size 1440x720 with 2 Axes>"
      ]
     },
     "metadata": {
      "needs_background": "light"
     },
     "output_type": "display_data"
    }
   ],
   "source": [
    "corrMatt = df[[\"Pregnancies\",\"Glucose\",\"BloodPressure\",\"SkinThickness\",\"Insulin\",\"BMI\",\"DiabetesPedigreeFunction\",\"Age\",\"Outcome\"]].corr()\n",
    "mask = np.array(corrMatt)\n",
    "mask[np.tril_indices_from(mask)] = False\n",
    "fig,ax= plt.subplots()\n",
    "fig.set_size_inches(20,10)\n",
    "sns.heatmap(corrMatt, mask=mask,vmax=.8, square=True,annot=True)"
   ]
  },
  {
   "cell_type": "markdown",
   "id": "exterior-apartment",
   "metadata": {},
   "source": [
    "## Distribution of values using Box Plots"
   ]
  },
  {
   "cell_type": "code",
   "execution_count": 28,
   "id": "overall-semiconductor",
   "metadata": {},
   "outputs": [
    {
     "data": {
      "image/png": "[encoded data removed]",
      "text/plain": [
       "<Figure size 288x144 with 1 Axes>"
      ]
     },
     "metadata": {},
     "output_type": "display_data"
    },
    {
     "data": {
      "image/png": "[encoded data removed]",
      "text/plain": [
       "<Figure size 288x144 with 1 Axes>"
      ]
     },
     "metadata": {},
     "output_type": "display_data"
    },
    {
     "data": {
      "image/png": "[encoded data removed]",
      "text/plain": [
       "<Figure size 288x144 with 1 Axes>"
      ]
     },
     "metadata": {},
     "output_type": "display_data"
    }
   ],
   "source": [
    "sns.set(style=\"whitegrid\")\n",
    "sns.set(rc={'figure.figsize':(4,2)})\n",
    "sns.boxplot(x=df['Insulin'])\n",
    "plt.show()\n",
    "sns.boxplot(x=df['BloodPressure'])\n",
    "plt.show()\n",
    "sns.boxplot(x=df['DiabetesPedigreeFunction'])\n",
    "plt.show()"
   ]
  },
  {
   "cell_type": "markdown",
   "id": "regulation-spray",
   "metadata": {},
   "source": [
    "### Removing outliers "
   ]
  },
  {
   "cell_type": "markdown",
   "id": "connected-innocent",
   "metadata": {},
   "source": [
    "The interquartile range (IQR), also called the midspread or middle 50%, or technically H-spread, is a measure of statistical dispersion, being equal to the difference between 75th and 25th percentiles, or between upper and lower quartiles, IQR = Q3 − Q1."
   ]
  },
  {
   "cell_type": "code",
   "execution_count": 5,
   "id": "opposite-miniature",
   "metadata": {},
   "outputs": [
    {
     "name": "stdout",
     "output_type": "stream",
     "text": [
      "---Q1--- \n",
      "\n",
      " Pregnancies                  1.000\n",
      "Glucose                     99.000\n",
      "BloodPressure               63.500\n",
      "SkinThickness                0.000\n",
      "Insulin                      0.000\n",
      "BMI                         27.375\n",
      "DiabetesPedigreeFunction     0.244\n",
      "Age                         24.000\n",
      "Outcome                      0.000\n",
      "Name: 0.25, dtype: float64\n",
      "\n",
      "---Q3--- \n",
      "\n",
      " Pregnancies                   6.000\n",
      "Glucose                     141.000\n",
      "BloodPressure                80.000\n",
      "SkinThickness                32.000\n",
      "Insulin                     130.000\n",
      "BMI                          36.800\n",
      "DiabetesPedigreeFunction      0.624\n",
      "Age                          40.000\n",
      "Outcome                       1.000\n",
      "Name: 0.75, dtype: float64\n",
      "\n",
      "---IQR---\n",
      "\n",
      " Pregnancies                   5.000\n",
      "Glucose                      42.000\n",
      "BloodPressure                16.500\n",
      "SkinThickness                32.000\n",
      "Insulin                     130.000\n",
      "BMI                           9.425\n",
      "DiabetesPedigreeFunction      0.380\n",
      "Age                          16.000\n",
      "Outcome                       1.000\n",
      "dtype: float64\n"
     ]
    }
   ],
   "source": [
    "Q1=df.quantile(0.25)\n",
    "Q3=df.quantile(0.75)\n",
    "IQR=Q3-Q1\n",
    "\n",
    "print(\"---Q1--- \\n\\n\",Q1)\n",
    "print(\"\\n---Q3--- \\n\\n\",Q3)\n",
    "print(\"\\n---IQR---\\n\\n\",IQR)"
   ]
  },
  {
   "cell_type": "code",
   "execution_count": 32,
   "id": "specified-sight",
   "metadata": {},
   "outputs": [
    {
     "data": {
      "text/plain": [
       "((2000, 9), (1652, 9))"
      ]
     },
     "execution_count": 32,
     "metadata": {},
     "output_type": "execute_result"
    }
   ],
   "source": [
    "df_out = df[~((df < (Q1 - 1.5 * IQR)) |(df > (Q3 + 1.5 * IQR))).any(axis=1)]\n",
    "df.shape,df_out.shape"
   ]
  },
  {
   "cell_type": "markdown",
   "id": "overall-spider",
   "metadata": {},
   "source": [
    "# MODEL BUILDING"
   ]
  },
  {
   "cell_type": "markdown",
   "id": "beautiful-professor",
   "metadata": {},
   "source": [
    "## Feature Extraction "
   ]
  },
  {
   "cell_type": "code",
   "execution_count": 6,
   "id": "super-entertainment",
   "metadata": {},
   "outputs": [
    {
     "data": {
      "text/html": [
       "<div>\n",
       "<style scoped>\n",
       "    .dataframe tbody tr th:only-of-type {\n",
       "        vertical-align: middle;\n",
       "    }\n",
       "\n",
       "    .dataframe tbody tr th {\n",
       "        vertical-align: top;\n",
       "    }\n",
       "\n",
       "    .dataframe thead th {\n",
       "        text-align: right;\n",
       "    }\n",
       "</style>\n",
       "<table border=\"1\" class=\"dataframe\">\n",
       "  <thead>\n",
       "    <tr style=\"text-align: right;\">\n",
       "      <th></th>\n",
       "      <th>Pregnancies</th>\n",
       "      <th>Glucose</th>\n",
       "      <th>BloodPressure</th>\n",
       "      <th>SkinThickness</th>\n",
       "      <th>Insulin</th>\n",
       "      <th>BMI</th>\n",
       "      <th>DiabetesPedigreeFunction</th>\n",
       "      <th>Age</th>\n",
       "    </tr>\n",
       "  </thead>\n",
       "  <tbody>\n",
       "    <tr>\n",
       "      <th>0</th>\n",
       "      <td>2</td>\n",
       "      <td>138</td>\n",
       "      <td>62</td>\n",
       "      <td>35</td>\n",
       "      <td>0</td>\n",
       "      <td>33.6</td>\n",
       "      <td>0.127</td>\n",
       "      <td>47</td>\n",
       "    </tr>\n",
       "    <tr>\n",
       "      <th>1</th>\n",
       "      <td>0</td>\n",
       "      <td>84</td>\n",
       "      <td>82</td>\n",
       "      <td>31</td>\n",
       "      <td>125</td>\n",
       "      <td>38.2</td>\n",
       "      <td>0.233</td>\n",
       "      <td>23</td>\n",
       "    </tr>\n",
       "    <tr>\n",
       "      <th>2</th>\n",
       "      <td>0</td>\n",
       "      <td>145</td>\n",
       "      <td>0</td>\n",
       "      <td>0</td>\n",
       "      <td>0</td>\n",
       "      <td>44.2</td>\n",
       "      <td>0.630</td>\n",
       "      <td>31</td>\n",
       "    </tr>\n",
       "    <tr>\n",
       "      <th>3</th>\n",
       "      <td>0</td>\n",
       "      <td>135</td>\n",
       "      <td>68</td>\n",
       "      <td>42</td>\n",
       "      <td>250</td>\n",
       "      <td>42.3</td>\n",
       "      <td>0.365</td>\n",
       "      <td>24</td>\n",
       "    </tr>\n",
       "    <tr>\n",
       "      <th>4</th>\n",
       "      <td>1</td>\n",
       "      <td>139</td>\n",
       "      <td>62</td>\n",
       "      <td>41</td>\n",
       "      <td>480</td>\n",
       "      <td>40.7</td>\n",
       "      <td>0.536</td>\n",
       "      <td>21</td>\n",
       "    </tr>\n",
       "  </tbody>\n",
       "</table>\n",
       "</div>"
      ],
      "text/plain": [
       "   Pregnancies  Glucose  BloodPressure  SkinThickness  Insulin   BMI  \\\n",
       "0            2      138             62             35        0  33.6   \n",
       "1            0       84             82             31      125  38.2   \n",
       "2            0      145              0              0        0  44.2   \n",
       "3            0      135             68             42      250  42.3   \n",
       "4            1      139             62             41      480  40.7   \n",
       "\n",
       "   DiabetesPedigreeFunction  Age  \n",
       "0                     0.127   47  \n",
       "1                     0.233   23  \n",
       "2                     0.630   31  \n",
       "3                     0.365   24  \n",
       "4                     0.536   21  "
      ]
     },
     "execution_count": 6,
     "metadata": {},
     "output_type": "execute_result"
    }
   ],
   "source": [
    "Feature = df[[\"Pregnancies\",\"Glucose\",\"BloodPressure\",\"SkinThickness\",\"Insulin\",\"BMI\",\"DiabetesPedigreeFunction\",\"Age\"]]\n",
    "Feature.head()"
   ]
  },
  {
   "cell_type": "code",
   "execution_count": 31,
   "id": "friendly-device",
   "metadata": {},
   "outputs": [
    {
     "data": {
      "text/html": [
       "<div>\n",
       "<style scoped>\n",
       "    .dataframe tbody tr th:only-of-type {\n",
       "        vertical-align: middle;\n",
       "    }\n",
       "\n",
       "    .dataframe tbody tr th {\n",
       "        vertical-align: top;\n",
       "    }\n",
       "\n",
       "    .dataframe thead th {\n",
       "        text-align: right;\n",
       "    }\n",
       "</style>\n",
       "<table border=\"1\" class=\"dataframe\">\n",
       "  <thead>\n",
       "    <tr style=\"text-align: right;\">\n",
       "      <th></th>\n",
       "      <th>Pregnancies</th>\n",
       "      <th>Glucose</th>\n",
       "      <th>BloodPressure</th>\n",
       "      <th>SkinThickness</th>\n",
       "      <th>Insulin</th>\n",
       "      <th>BMI</th>\n",
       "      <th>DiabetesPedigreeFunction</th>\n",
       "      <th>Age</th>\n",
       "    </tr>\n",
       "  </thead>\n",
       "  <tbody>\n",
       "    <tr>\n",
       "      <th>0</th>\n",
       "      <td>2</td>\n",
       "      <td>138</td>\n",
       "      <td>62</td>\n",
       "      <td>35</td>\n",
       "      <td>0</td>\n",
       "      <td>33.6</td>\n",
       "      <td>0.127</td>\n",
       "      <td>47</td>\n",
       "    </tr>\n",
       "    <tr>\n",
       "      <th>1</th>\n",
       "      <td>0</td>\n",
       "      <td>84</td>\n",
       "      <td>82</td>\n",
       "      <td>31</td>\n",
       "      <td>125</td>\n",
       "      <td>38.2</td>\n",
       "      <td>0.233</td>\n",
       "      <td>23</td>\n",
       "    </tr>\n",
       "    <tr>\n",
       "      <th>2</th>\n",
       "      <td>0</td>\n",
       "      <td>145</td>\n",
       "      <td>0</td>\n",
       "      <td>0</td>\n",
       "      <td>0</td>\n",
       "      <td>44.2</td>\n",
       "      <td>0.630</td>\n",
       "      <td>31</td>\n",
       "    </tr>\n",
       "    <tr>\n",
       "      <th>3</th>\n",
       "      <td>0</td>\n",
       "      <td>135</td>\n",
       "      <td>68</td>\n",
       "      <td>42</td>\n",
       "      <td>250</td>\n",
       "      <td>42.3</td>\n",
       "      <td>0.365</td>\n",
       "      <td>24</td>\n",
       "    </tr>\n",
       "    <tr>\n",
       "      <th>4</th>\n",
       "      <td>1</td>\n",
       "      <td>139</td>\n",
       "      <td>62</td>\n",
       "      <td>41</td>\n",
       "      <td>480</td>\n",
       "      <td>40.7</td>\n",
       "      <td>0.536</td>\n",
       "      <td>21</td>\n",
       "    </tr>\n",
       "  </tbody>\n",
       "</table>\n",
       "</div>"
      ],
      "text/plain": [
       "   Pregnancies  Glucose  BloodPressure  SkinThickness  Insulin   BMI  \\\n",
       "0            2      138             62             35        0  33.6   \n",
       "1            0       84             82             31      125  38.2   \n",
       "2            0      145              0              0        0  44.2   \n",
       "3            0      135             68             42      250  42.3   \n",
       "4            1      139             62             41      480  40.7   \n",
       "\n",
       "   DiabetesPedigreeFunction  Age  \n",
       "0                     0.127   47  \n",
       "1                     0.233   23  \n",
       "2                     0.630   31  \n",
       "3                     0.365   24  \n",
       "4                     0.536   21  "
      ]
     },
     "execution_count": 31,
     "metadata": {},
     "output_type": "execute_result"
    }
   ],
   "source": [
    "X = Feature\n",
    "X[0:5]"
   ]
  },
  {
   "cell_type": "markdown",
   "id": "adaptive-commodity",
   "metadata": {},
   "source": [
    "## Target Extraction of categorical data"
   ]
  },
  {
   "cell_type": "code",
   "execution_count": 32,
   "id": "crazy-gathering",
   "metadata": {},
   "outputs": [
    {
     "data": {
      "text/plain": [
       "array([1, 0, 1, 1, 0], dtype=int64)"
      ]
     },
     "execution_count": 32,
     "metadata": {},
     "output_type": "execute_result"
    }
   ],
   "source": [
    "y = df['Outcome'].values\n",
    "y[0:5]"
   ]
  },
  {
   "cell_type": "markdown",
   "id": "biblical-pearl",
   "metadata": {},
   "source": [
    "     "
   ]
  },
  {
   "cell_type": "markdown",
   "id": "given-collector",
   "metadata": {},
   "source": [
    "## Classification "
   ]
  },
  {
   "cell_type": "markdown",
   "id": "sexual-cattle",
   "metadata": {},
   "source": [
    "##### We will use following classification algorithms and compare which gives better accuracy \n",
    "##### K Nearest Neighbor(KNN)\n",
    "##### Decision Tree\n",
    "##### Support Vector Machine\n",
    "##### Logistic Regression"
   ]
  },
  {
   "cell_type": "markdown",
   "id": "ahead-school",
   "metadata": {},
   "source": [
    "    "
   ]
  },
  {
   "cell_type": "markdown",
   "id": "involved-completion",
   "metadata": {},
   "source": [
    "## K Nearest Neighbor(KNN)"
   ]
  },
  {
   "cell_type": "code",
   "execution_count": 33,
   "id": "trying-planet",
   "metadata": {},
   "outputs": [],
   "source": [
    "from sklearn.neighbors import KNeighborsClassifier\n",
    "from sklearn.model_selection import train_test_split\n",
    "from sklearn import metrics\n",
    "from sklearn.metrics import classification_report,confusion_matrix,accuracy_score,recall_score\n",
    "X_train, X_test, y_train, y_test = train_test_split( X, y, test_size=0.2, random_state=4)"
   ]
  },
  {
   "cell_type": "code",
   "execution_count": 10,
   "id": "postal-parish",
   "metadata": {},
   "outputs": [],
   "source": [
    "error_rate = []\n",
    "for i in range(1,40):\n",
    "    \n",
    "    knn = KNeighborsClassifier(n_neighbors=i)\n",
    "    knn.fit(X_train,y_train)\n",
    "    pred_i = knn.predict(X_test)\n",
    "    error_rate.append(np.mean(pred_i!=y_test))"
   ]
  },
  {
   "cell_type": "code",
   "execution_count": 11,
   "id": "suited-anderson",
   "metadata": {},
   "outputs": [
    {
     "data": {
      "text/plain": [
       "Text(0, 0.5, 'Error Rate')"
      ]
     },
     "execution_count": 11,
     "metadata": {},
     "output_type": "execute_result"
    },
    {
     "data": {
      "image/png": "[encoded data removed]",
      "text/plain": [
       "<Figure size 720x432 with 1 Axes>"
      ]
     },
     "metadata": {
      "needs_background": "light"
     },
     "output_type": "display_data"
    }
   ],
   "source": [
    "plt.figure(figsize=(10,6))\n",
    "plt.plot(range(1,40),error_rate,color='blue', linestyle='dashed', marker='o',\n",
    "         markerfacecolor='red', markersize=10)\n",
    "plt.title('Error Rate vs. K Value')\n",
    "plt.xlabel('K')\n",
    "plt.ylabel('Error Rate')"
   ]
  },
  {
   "cell_type": "markdown",
   "id": "human-conducting",
   "metadata": {},
   "source": [
    "We can see that at k=8, error rate is minimum and is the point where steep starts"
   ]
  },
  {
   "cell_type": "markdown",
   "id": "resistant-artist",
   "metadata": {},
   "source": [
    "### Model Evaluation using Test set"
   ]
  },
  {
   "cell_type": "code",
   "execution_count": 16,
   "id": "micro-treaty",
   "metadata": {},
   "outputs": [
    {
     "name": "stdout",
     "output_type": "stream",
     "text": [
      "CONFUSION_MATRIX :\n",
      "\n",
      "[[231  47]\n",
      " [ 35  87]] \n",
      "\n",
      "REPORT :\n",
      "\n",
      "              precision    recall  f1-score   support\n",
      "\n",
      "           0       0.87      0.83      0.85       278\n",
      "           1       0.65      0.71      0.68       122\n",
      "\n",
      "    accuracy                           0.80       400\n",
      "   macro avg       0.76      0.77      0.76       400\n",
      "weighted avg       0.80      0.80      0.80       400\n",
      "\n"
     ]
    }
   ],
   "source": [
    "knn = KNeighborsClassifier(n_neighbors=7)\n",
    "knn.fit(X_train,y_train)\n",
    "pred_i = knn.predict(X_test)\n",
    "print('CONFUSION_MATRIX :\\n')\n",
    "print(confusion_matrix(pred_i,y_test),\"\\n\")\n",
    "print('REPORT :\\n')\n",
    "print(classification_report(pred_i,y_test))"
   ]
  },
  {
   "cell_type": "code",
   "execution_count": 74,
   "id": "appropriate-assignment",
   "metadata": {},
   "outputs": [
    {
     "name": "stdout",
     "output_type": "stream",
     "text": [
      "ACCURACY :\n"
     ]
    },
    {
     "data": {
      "text/plain": [
       "0.795"
      ]
     },
     "execution_count": 74,
     "metadata": {},
     "output_type": "execute_result"
    }
   ],
   "source": [
    "list_fs=[]\n",
    "list_fs.append(accuracy_score(pred_i,y_test))\n",
    "print('ACCURACY :')\n",
    "accuracy_score(pred_i,y_test)"
   ]
  },
  {
   "cell_type": "markdown",
   "id": "present-model",
   "metadata": {},
   "source": [
    "            "
   ]
  },
  {
   "cell_type": "markdown",
   "id": "completed-walnut",
   "metadata": {},
   "source": [
    "## Decision Tree "
   ]
  },
  {
   "cell_type": "code",
   "execution_count": 75,
   "id": "colonial-latitude",
   "metadata": {},
   "outputs": [
    {
     "data": {
      "text/plain": [
       "array([1, 0, 0, 0, 0, 0, 0, 0, 0, 1, 1, 1, 1, 0, 0, 1, 1, 1, 0, 0, 1, 0,\n",
       "       0, 0, 0, 1, 0, 0, 0, 1, 1, 0, 1, 0, 0, 0, 0, 0, 0, 0, 0, 1, 0, 0,\n",
       "       0, 0, 0, 0, 0, 1, 0, 0, 0, 1, 1, 1, 1, 1, 0, 0, 0, 0, 0, 0, 0, 0,\n",
       "       0, 0, 1, 1, 1, 0, 0, 0, 0, 1, 0, 0, 1, 0, 0, 0, 1, 0, 0, 0, 0, 0,\n",
       "       1, 1, 1, 0, 0, 0, 0, 0, 0, 0, 1, 0, 0, 0, 0, 1, 0, 0, 0, 1, 0, 0,\n",
       "       1, 0, 0, 0, 1, 1, 1, 0, 0, 0, 1, 1, 0, 1, 1, 0, 1, 0, 0, 1, 1, 0,\n",
       "       1, 0, 0, 0, 1, 0, 1, 1, 1, 0, 0, 0, 1, 0, 0, 1, 0, 0, 0, 0, 0, 0,\n",
       "       0, 0, 1, 1, 0, 0, 1, 0, 1, 0, 0, 1, 0, 0, 0, 1, 0, 0, 1, 1, 0, 1,\n",
       "       0, 0, 1, 0, 1, 0, 0, 0, 0, 0, 0, 1, 1, 1, 1, 1, 1, 0, 1, 0, 1, 0,\n",
       "       0, 1, 1, 1, 0, 1, 0, 0, 0, 0, 0, 0, 0, 0, 0, 0, 0, 0, 0, 1, 0, 0,\n",
       "       0, 1, 0, 0, 0, 1, 0, 0, 0, 0, 0, 0, 0, 0, 0, 0, 1, 1, 0, 1, 0, 0,\n",
       "       0, 1, 0, 1, 1, 0, 1, 0, 0, 0, 1, 1, 0, 0, 0, 0, 1, 0, 0, 1, 0, 0,\n",
       "       1, 0, 0, 1, 0, 0, 1, 1, 0, 1, 0, 0, 1, 0, 0, 0, 0, 0, 1, 1, 0, 0,\n",
       "       0, 0, 0, 0, 0, 0, 0, 1, 1, 0, 1, 0, 1, 1, 0, 0, 1, 0, 0, 0, 0, 1,\n",
       "       0, 0, 1, 1, 1, 0, 1, 0, 0, 0, 0, 0, 0, 1, 0, 0, 0, 0, 1, 1, 0, 0,\n",
       "       1, 1, 0, 0, 0, 0, 0, 0, 0, 1, 0, 0, 0, 1, 0, 0, 0, 0, 0, 0, 1, 0,\n",
       "       0, 1, 0, 1, 0, 0, 0, 0, 0, 0, 0, 0, 0, 0, 1, 0, 1, 0, 0, 1, 1, 0,\n",
       "       1, 0, 0, 0, 0, 1, 1, 0, 1, 0, 0, 0, 0, 0, 0, 0, 1, 0, 1, 0, 1, 0,\n",
       "       0, 1, 0, 0], dtype=int64)"
      ]
     },
     "execution_count": 75,
     "metadata": {},
     "output_type": "execute_result"
    }
   ],
   "source": [
    "from sklearn.tree import DecisionTreeClassifier\n",
    "dc = DecisionTreeClassifier()\n",
    "classification = dc.fit(X_train,y_train)\n",
    "prediction = dc.predict(X_test)\n",
    "prediction"
   ]
  },
  {
   "cell_type": "markdown",
   "id": "addressed-ultimate",
   "metadata": {},
   "source": [
    "### Model Evaluation using Test set"
   ]
  },
  {
   "cell_type": "code",
   "execution_count": 76,
   "id": "ranging-people",
   "metadata": {},
   "outputs": [
    {
     "name": "stdout",
     "output_type": "stream",
     "text": [
      "CONFUSION_MATRIX :\n",
      "\n",
      "[[265   7]\n",
      " [  1 127]]\n"
     ]
    }
   ],
   "source": [
    "print('CONFUSION_MATRIX :\\n')\n",
    "\n",
    "print(confusion_matrix(prediction,y_test))"
   ]
  },
  {
   "cell_type": "code",
   "execution_count": 77,
   "id": "clean-berlin",
   "metadata": {},
   "outputs": [
    {
     "name": "stdout",
     "output_type": "stream",
     "text": [
      "REPORT :\n",
      "\n",
      "              precision    recall  f1-score   support\n",
      "\n",
      "           0       1.00      0.97      0.99       272\n",
      "           1       0.95      0.99      0.97       128\n",
      "\n",
      "    accuracy                           0.98       400\n",
      "   macro avg       0.97      0.98      0.98       400\n",
      "weighted avg       0.98      0.98      0.98       400\n",
      "\n"
     ]
    }
   ],
   "source": [
    "print('REPORT :\\n')\n",
    "print(classification_report(prediction,y_test))"
   ]
  },
  {
   "cell_type": "code",
   "execution_count": 78,
   "id": "gross-storage",
   "metadata": {},
   "outputs": [
    {
     "name": "stdout",
     "output_type": "stream",
     "text": [
      "ACCURACY :\n",
      "\n"
     ]
    },
    {
     "data": {
      "text/plain": [
       "0.98"
      ]
     },
     "execution_count": 78,
     "metadata": {},
     "output_type": "execute_result"
    }
   ],
   "source": [
    "print('ACCURACY :\\n')\n",
    "list_fs.append(accuracy_score(prediction,y_test))\n",
    "accuracy_score(prediction,y_test)"
   ]
  },
  {
   "cell_type": "markdown",
   "id": "compliant-worker",
   "metadata": {},
   "source": [
    "    "
   ]
  },
  {
   "cell_type": "markdown",
   "id": "intermediate-integral",
   "metadata": {},
   "source": [
    "## Support Vector Machine"
   ]
  },
  {
   "cell_type": "code",
   "execution_count": 79,
   "id": "herbal-seventh",
   "metadata": {},
   "outputs": [
    {
     "data": {
      "text/plain": [
       "array([1, 0, 0, 0, 1, 0, 0, 0, 0, 0, 0, 1, 1, 0, 0, 1, 1, 1, 0, 1, 1, 0,\n",
       "       0, 0, 0, 1, 0, 0, 0, 1, 1, 0, 1, 0, 0, 0, 0, 0, 0, 0, 1, 0, 0, 0,\n",
       "       1, 0, 0, 0, 0, 0, 0, 0, 0, 0, 1, 0, 1, 0, 0, 0, 0, 0, 0, 0, 0, 0,\n",
       "       0, 0, 1, 1, 0, 0, 0, 0, 0, 1, 0, 1, 1, 0, 0, 0, 0, 0, 0, 0, 0, 1,\n",
       "       0, 1, 0, 0, 0, 0, 0, 0, 0, 0, 1, 0, 0, 1, 1, 1, 1, 1, 0, 0, 0, 0,\n",
       "       1, 1, 0, 0, 0, 1, 1, 0, 0, 0, 0, 1, 0, 1, 0, 0, 0, 0, 0, 1, 1, 0,\n",
       "       0, 1, 1, 0, 0, 0, 1, 1, 1, 0, 0, 0, 0, 1, 1, 0, 0, 0, 0, 0, 0, 0,\n",
       "       0, 0, 0, 1, 0, 1, 0, 0, 0, 1, 0, 1, 0, 0, 0, 1, 0, 0, 0, 0, 0, 1,\n",
       "       0, 0, 1, 0, 1, 0, 0, 0, 0, 1, 1, 0, 0, 0, 1, 0, 1, 0, 0, 0, 1, 0,\n",
       "       0, 0, 0, 1, 0, 0, 0, 0, 0, 0, 0, 0, 0, 0, 0, 0, 0, 0, 0, 0, 0, 0,\n",
       "       0, 0, 0, 1, 0, 0, 0, 0, 0, 0, 0, 0, 0, 0, 0, 0, 0, 0, 1, 0, 0, 0,\n",
       "       0, 1, 0, 1, 0, 0, 1, 0, 0, 0, 0, 0, 1, 0, 0, 0, 1, 0, 0, 0, 0, 1,\n",
       "       1, 0, 0, 1, 0, 0, 1, 1, 0, 1, 0, 0, 1, 1, 0, 0, 0, 0, 0, 0, 0, 0,\n",
       "       0, 0, 0, 0, 0, 0, 0, 1, 1, 0, 0, 0, 1, 0, 1, 0, 1, 0, 0, 0, 0, 0,\n",
       "       0, 0, 0, 0, 1, 0, 0, 0, 0, 0, 0, 0, 0, 0, 0, 0, 0, 1, 0, 1, 0, 0,\n",
       "       0, 1, 0, 0, 0, 0, 0, 0, 0, 1, 0, 1, 0, 0, 1, 1, 1, 0, 0, 1, 0, 0,\n",
       "       0, 1, 0, 0, 0, 0, 0, 0, 0, 0, 0, 0, 0, 0, 1, 0, 0, 0, 1, 1, 0, 0,\n",
       "       1, 0, 0, 0, 0, 1, 1, 0, 0, 0, 0, 0, 0, 1, 1, 0, 1, 0, 0, 0, 0, 0,\n",
       "       0, 0, 0, 0], dtype=int64)"
      ]
     },
     "execution_count": 79,
     "metadata": {},
     "output_type": "execute_result"
    }
   ],
   "source": [
    "from sklearn import svm\n",
    "svc = svm.SVC(kernel='rbf')\n",
    "svc.fit(X_train,y_train)\n",
    "y_preds = svc.predict(X_test)\n",
    "y_preds"
   ]
  },
  {
   "cell_type": "markdown",
   "id": "specific-booth",
   "metadata": {},
   "source": [
    "### Model Evaluation using Test set"
   ]
  },
  {
   "cell_type": "code",
   "execution_count": 80,
   "id": "institutional-element",
   "metadata": {},
   "outputs": [
    {
     "name": "stdout",
     "output_type": "stream",
     "text": [
      "CLASSIFICATION_REPORT :\n",
      "\n",
      "              precision    recall  f1-score   support\n",
      "\n",
      "           0       0.89      0.79      0.84       301\n",
      "           1       0.52      0.71      0.60        99\n",
      "\n",
      "    accuracy                           0.77       400\n",
      "   macro avg       0.71      0.75      0.72       400\n",
      "weighted avg       0.80      0.77      0.78       400\n",
      "\n"
     ]
    }
   ],
   "source": [
    "print('CLASSIFICATION_REPORT :\\n')\n",
    "print(metrics.classification_report(y_preds,y_test))"
   ]
  },
  {
   "cell_type": "code",
   "execution_count": 81,
   "id": "referenced-tender",
   "metadata": {},
   "outputs": [
    {
     "name": "stdout",
     "output_type": "stream",
     "text": [
      "CONFUSION MATRIX :\n",
      "\n",
      "[[237  64]\n",
      " [ 29  70]]\n"
     ]
    }
   ],
   "source": [
    "print('CONFUSION MATRIX :\\n')\n",
    "print(metrics.confusion_matrix(y_preds,y_test))"
   ]
  },
  {
   "cell_type": "code",
   "execution_count": 82,
   "id": "white-detroit",
   "metadata": {},
   "outputs": [
    {
     "name": "stdout",
     "output_type": "stream",
     "text": [
      "ACCURACY :\n",
      "\n",
      "0.7675\n"
     ]
    }
   ],
   "source": [
    "print('ACCURACY :\\n')\n",
    "list_fs.append(accuracy_score(y_preds,y_test))\n",
    "print(accuracy_score(y_preds,y_test))"
   ]
  },
  {
   "cell_type": "markdown",
   "id": "recorded-actress",
   "metadata": {},
   "source": [
    "    "
   ]
  },
  {
   "cell_type": "markdown",
   "id": "residential-russia",
   "metadata": {},
   "source": [
    "## Logistic Regression "
   ]
  },
  {
   "cell_type": "code",
   "execution_count": 83,
   "id": "stuck-enhancement",
   "metadata": {},
   "outputs": [
    {
     "data": {
      "text/plain": [
       "LogisticRegression(max_iter=200)"
      ]
     },
     "execution_count": 83,
     "metadata": {},
     "output_type": "execute_result"
    }
   ],
   "source": [
    "from sklearn.linear_model import LogisticRegression\n",
    "linear = LogisticRegression(fit_intercept=True,solver='lbfgs', max_iter=200)\n",
    "linear.fit(X_train,y_train)"
   ]
  },
  {
   "cell_type": "code",
   "execution_count": 84,
   "id": "floral-riverside",
   "metadata": {},
   "outputs": [
    {
     "data": {
      "text/plain": [
       "array([1, 0, 0, 0, 1, 0, 0, 0, 0, 0, 0, 1, 1, 0, 0, 1, 1, 1, 0, 1, 1, 0,\n",
       "       0, 0, 0, 1, 0, 0, 0, 1, 1, 0, 1, 0, 0, 0, 0, 0, 0, 0, 1, 0, 0, 0,\n",
       "       1, 0, 0, 0, 0, 0, 0, 0, 0, 0, 1, 0, 1, 0, 0, 0, 0, 0, 0, 0, 0, 0,\n",
       "       0, 0, 1, 1, 1, 0, 0, 0, 0, 1, 0, 1, 0, 0, 0, 0, 0, 0, 0, 0, 0, 1,\n",
       "       1, 0, 0, 0, 0, 0, 0, 0, 0, 0, 1, 0, 0, 1, 1, 1, 1, 1, 0, 0, 0, 0,\n",
       "       1, 1, 0, 0, 1, 1, 1, 0, 0, 0, 0, 1, 0, 1, 0, 0, 0, 0, 0, 1, 1, 0,\n",
       "       0, 1, 1, 0, 0, 0, 1, 1, 1, 1, 0, 0, 0, 1, 1, 0, 0, 0, 0, 0, 0, 0,\n",
       "       0, 0, 1, 1, 0, 1, 1, 0, 0, 1, 0, 1, 0, 0, 0, 1, 0, 0, 0, 0, 0, 1,\n",
       "       0, 0, 1, 0, 1, 0, 0, 0, 0, 0, 1, 0, 0, 0, 1, 0, 1, 0, 0, 0, 1, 1,\n",
       "       0, 0, 0, 1, 0, 0, 0, 0, 0, 0, 0, 0, 0, 0, 0, 0, 0, 0, 0, 0, 0, 0,\n",
       "       1, 0, 0, 1, 0, 0, 0, 0, 0, 0, 0, 0, 0, 0, 0, 0, 0, 0, 1, 0, 0, 0,\n",
       "       0, 0, 0, 1, 0, 0, 1, 0, 1, 0, 0, 0, 1, 1, 0, 0, 1, 0, 0, 0, 0, 1,\n",
       "       1, 0, 0, 0, 0, 0, 1, 1, 0, 1, 0, 0, 1, 1, 0, 0, 0, 0, 0, 0, 0, 0,\n",
       "       0, 0, 0, 0, 0, 0, 0, 1, 1, 0, 0, 0, 1, 0, 1, 0, 1, 0, 0, 0, 1, 1,\n",
       "       0, 0, 1, 1, 1, 0, 0, 1, 0, 0, 0, 0, 0, 0, 1, 1, 0, 1, 0, 1, 0, 0,\n",
       "       0, 1, 0, 0, 0, 0, 0, 1, 0, 1, 0, 1, 0, 0, 1, 1, 1, 0, 0, 1, 0, 0,\n",
       "       0, 1, 0, 0, 0, 0, 0, 0, 0, 0, 0, 0, 0, 0, 1, 0, 1, 0, 0, 1, 1, 0,\n",
       "       1, 0, 0, 0, 0, 1, 1, 0, 0, 0, 0, 0, 0, 1, 1, 0, 1, 0, 1, 0, 1, 0,\n",
       "       0, 0, 0, 0], dtype=int64)"
      ]
     },
     "execution_count": 84,
     "metadata": {},
     "output_type": "execute_result"
    }
   ],
   "source": [
    "y_pred = linear.predict(X_test)\n",
    "y_pred"
   ]
  },
  {
   "cell_type": "markdown",
   "id": "blessed-seeker",
   "metadata": {},
   "source": [
    "### Model Evaluation using Test set"
   ]
  },
  {
   "cell_type": "code",
   "execution_count": 85,
   "id": "compatible-integral",
   "metadata": {},
   "outputs": [
    {
     "name": "stdout",
     "output_type": "stream",
     "text": [
      "CLASSIFICATION_REPORT :\n",
      "\n",
      "              precision    recall  f1-score   support\n",
      "\n",
      "           0       0.86      0.80      0.83       285\n",
      "           1       0.58      0.68      0.63       115\n",
      "\n",
      "    accuracy                           0.77       400\n",
      "   macro avg       0.72      0.74      0.73       400\n",
      "weighted avg       0.78      0.77      0.77       400\n",
      "\n"
     ]
    }
   ],
   "source": [
    "print('CLASSIFICATION_REPORT :\\n');\n",
    "print(metrics.classification_report(y_pred,y_test))"
   ]
  },
  {
   "cell_type": "code",
   "execution_count": 86,
   "id": "developed-accounting",
   "metadata": {},
   "outputs": [
    {
     "name": "stdout",
     "output_type": "stream",
     "text": [
      "CONFUSION_MATRIX :\n",
      "\n",
      "[[229  56]\n",
      " [ 37  78]]\n"
     ]
    }
   ],
   "source": [
    "print('CONFUSION_MATRIX :\\n');\n",
    "print(metrics.confusion_matrix(y_pred,y_test))"
   ]
  },
  {
   "cell_type": "code",
   "execution_count": 87,
   "id": "ultimate-giant",
   "metadata": {},
   "outputs": [
    {
     "name": "stdout",
     "output_type": "stream",
     "text": [
      "ACCURACY_SCORE :\n",
      "\n",
      "0.7675\n"
     ]
    }
   ],
   "source": [
    "print('ACCURACY_SCORE :\\n');\n",
    "list_fs.append(accuracy_score(y_pred,y_test))\n",
    "print(accuracy_score(y_pred,y_test))"
   ]
  },
  {
   "cell_type": "markdown",
   "id": "disturbed-cream",
   "metadata": {},
   "source": [
    "    "
   ]
  },
  {
   "cell_type": "markdown",
   "id": "scenic-taxation",
   "metadata": {},
   "source": [
    "## FINAL REPORT"
   ]
  },
  {
   "cell_type": "code",
   "execution_count": 96,
   "id": "internal-construction",
   "metadata": {},
   "outputs": [
    {
     "data": {
      "text/html": [
       "<div>\n",
       "<style scoped>\n",
       "    .dataframe tbody tr th:only-of-type {\n",
       "        vertical-align: middle;\n",
       "    }\n",
       "\n",
       "    .dataframe tbody tr th {\n",
       "        vertical-align: top;\n",
       "    }\n",
       "\n",
       "    .dataframe thead th {\n",
       "        text-align: right;\n",
       "    }\n",
       "</style>\n",
       "<table border=\"1\" class=\"dataframe\">\n",
       "  <thead>\n",
       "    <tr style=\"text-align: right;\">\n",
       "      <th>Algorithm</th>\n",
       "      <th>Accuracy-score</th>\n",
       "    </tr>\n",
       "  </thead>\n",
       "  <tbody>\n",
       "    <tr>\n",
       "      <th>KNN</th>\n",
       "      <td>0.7950</td>\n",
       "    </tr>\n",
       "    <tr>\n",
       "      <th>Decision Tree</th>\n",
       "      <td>0.9800</td>\n",
       "    </tr>\n",
       "    <tr>\n",
       "      <th>SVM</th>\n",
       "      <td>0.7675</td>\n",
       "    </tr>\n",
       "    <tr>\n",
       "      <th>Logistic Regression</th>\n",
       "      <td>0.7675</td>\n",
       "    </tr>\n",
       "  </tbody>\n",
       "</table>\n",
       "</div>"
      ],
      "text/plain": [
       "Algorithm            Accuracy-score\n",
       "KNN                          0.7950\n",
       "Decision Tree                0.9800\n",
       "SVM                          0.7675\n",
       "Logistic Regression          0.7675"
      ]
     },
     "execution_count": 96,
     "metadata": {},
     "output_type": "execute_result"
    }
   ],
   "source": [
    "df = pd.DataFrame(index=['KNN','Decision Tree','SVM','Logistic Regression'])\n",
    "df.insert(loc=0, column='Accuracy-score', value=list_fs)\n",
    "df.columns.name = 'Algorithm'\n",
    "df"
   ]
  },
  {
   "cell_type": "markdown",
   "id": "structured-seller",
   "metadata": {},
   "source": [
    "## Conclusion :-\n",
    "## For this particular dataset Decision Tree predicts the categorical target value with accuracy of 98% much higher than other classification algorithms "
   ]
  }
 ],
 "metadata": {
  "kernelspec": {
   "display_name": "Python 3",
   "language": "python",
   "name": "python3"
  },
  "language_info": {
   "codemirror_mode": {
    "name": "ipython",
    "version": 3
   },
   "file_extension": ".py",
   "mimetype": "text/x-python",
   "name": "python",
   "nbconvert_exporter": "python",
   "pygments_lexer": "ipython3",
   "version": "3.7.4"
  }
 },
 "nbformat": 4,
 "nbformat_minor": 5
}
